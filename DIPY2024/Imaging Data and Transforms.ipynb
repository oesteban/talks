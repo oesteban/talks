{
 "cells": [
  {
   "cell_type": "code",
   "execution_count": null,
   "id": "c3755d30",
   "metadata": {
    "slideshow": {
     "slide_type": "skip"
    }
   },
   "outputs": [],
   "source": [
    "from IPython.display import Markdown"
   ]
  },
  {
   "cell_type": "markdown",
   "id": "cb8bc6ae",
   "metadata": {
    "slideshow": {
     "slide_type": "slide"
    }
   },
   "source": [
    "# Imaging Data and Transforms\n",
    "\n",
    "Oscar Esteban \\<phd@oscaresteban.es> <br />\n",
    "Research & Teaching Ambizione Fellow <br />\n",
    "Lausanne University Hospital and University of Lausanne"
   ]
  },
  {
   "cell_type": "code",
   "execution_count": null,
   "id": "b36765b9",
   "metadata": {
    "scrolled": false,
    "slideshow": {
     "slide_type": "skip"
    }
   },
   "outputs": [],
   "source": [
    "# Import numpy and nibabel to manage the image\n",
    "import numpy as np\n",
    "import nibabel as nb\n",
    "\n",
    "# Load a NIfTI file\n",
    "ni_img = nb.load(\"/data/datasets/hcph/sub-001/ses-001/anat/sub-001_ses-001_acq-undistorted_T1w.nii.gz\")\n",
    "\n",
    "# Convert NIfTI data to pyvista mesh\n",
    "data = np.asanyarray(nb.as_closest_canonical(ni_img).dataobj)\n",
    "\n",
    "# Create interactive plotter\n",
    "p = pv.Plotter()\n",
    "p.add_volume(data, cmap=\"gray\", show_scalar_bar=False)\n",
    "p.show_grid(xtitle=\"i-axis\", ytitle=\"j-axis\", ztitle=\"k-axis\")\n",
    "p.export_html(\"brain.html\")\n",
    "p.close()\n",
    "\n",
    "hello = Markdown(\"\"\"\n",
    "Hello world! I'm Oscar Esteban.\n",
    "\n",
    "<iframe width=\"700\" height=\"500\" src=\"brain.html\" />\n",
    "\n",
    "My research focuses on pushing the boundaries of human and non-human neuroimaging, primarily using MRI.\n",
    "I develop tools to help researchers analyze and interpret brain data more effectively.\n",
    "\"\"\")\n",
    "# widget = p.show(return_viewer=True)"
   ]
  },
  {
   "cell_type": "code",
   "execution_count": null,
   "id": "131f31ef",
   "metadata": {
    "slideshow": {
     "slide_type": "slide"
    }
   },
   "outputs": [],
   "source": [
    "hello"
   ]
  },
  {
   "cell_type": "markdown",
   "id": "7977b897",
   "metadata": {
    "slideshow": {
     "slide_type": "slide"
    }
   },
   "source": [
    "```Python\n",
    "# Load a NIfTI file\n",
    "ni_img = nb.load(\"/data/datasets/hcph/sub-001/ses-001/anat/sub-001_ses-001_acq-undistorted_T1w.nii.gz\")\n",
    "\n",
    "# Convert NIfTI data to pyvista mesh\n",
    "data = np.asanyarray(nb.as_closest_canonical(ni_img).dataobj)\n",
    "\n",
    "```"
   ]
  },
  {
   "cell_type": "markdown",
   "id": "dc455a9f",
   "metadata": {
    "slideshow": {
     "slide_type": "slide"
    }
   },
   "source": [
    "## Learning outcomes\n",
    "\n",
    "\n",
    "* Gain an introductory understanding of different types of neuroimaging data.\n",
    "* Explore the use of Python libraries like NiBabel for working with neuroimaging data formats.\n",
    "* Understand the importance of image alignment and learn about spatial transforms in this context.\n",
    "* Discover how to apply these tools and concepts to enhance your own data analysis and interpretation.\n"
   ]
  },
  {
   "cell_type": "markdown",
   "id": "e31e5638",
   "metadata": {
    "slideshow": {
     "slide_type": "slide"
    }
   },
   "source": [
    "# Types of Neuroimaging Data"
   ]
  },
  {
   "cell_type": "markdown",
   "id": "887b7580",
   "metadata": {
    "slideshow": {
     "slide_type": "slide"
    }
   },
   "source": [
    "## Unveiling the Brain's Blueprint: Structural MRI\n",
    "\n",
    "Maps anatomical features of the brain.\n",
    "\n",
    "For example, brain tissues:\n",
    "\n",
    "* Grey matter (information processing)\n",
    "* White matter (communications)\n",
    "* Cerebrospinal fluid (support)"
   ]
  },
  {
   "cell_type": "code",
   "execution_count": null,
   "id": "9b1b0cb6",
   "metadata": {},
   "outputs": [],
   "source": [
    "ni_img.orthoview();"
   ]
  },
  {
   "cell_type": "code",
   "execution_count": null,
   "id": "81906a91",
   "metadata": {},
   "outputs": [],
   "source": []
  }
 ],
 "metadata": {
  "celltoolbar": "Slideshow",
  "kernelspec": {
   "display_name": "Python 3 (ipykernel)",
   "language": "python",
   "name": "python3"
  },
  "language_info": {
   "codemirror_mode": {
    "name": "ipython",
    "version": 3
   },
   "file_extension": ".py",
   "mimetype": "text/x-python",
   "name": "python",
   "nbconvert_exporter": "python",
   "pygments_lexer": "ipython3",
   "version": "3.9.12"
  }
 },
 "nbformat": 4,
 "nbformat_minor": 5
}
